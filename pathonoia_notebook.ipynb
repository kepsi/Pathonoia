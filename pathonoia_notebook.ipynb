{
 "cells": [
  {
   "cell_type": "code",
   "execution_count": 2,
   "metadata": {},
   "outputs": [],
   "source": [
    "import os\n",
    "import pandas as pd\n",
    "import multiprocessing\n",
    "import parmap\n",
    "import datetime\n",
    "from pathonoia import pathonoia as pa"
   ]
  },
  {
   "cell_type": "code",
   "execution_count": 30,
   "metadata": {},
   "outputs": [],
   "source": [
    "# this folder will be created and for every dataset and sample corresponding subfolders\n",
    "OUTPUT_DIR = \"./OUTPUT/\"\n",
    "\n",
    "# The Inputfolder should contain one or more fasta files\n",
    "# These files should be samples of the same dataset\n",
    "# the fasta files should contain all unmapped reads after aligning the original sample to the host's transcriptome\n",
    "# the unmapped reads can be extracted from the alignment BAM file with SAMtools:\n",
    "\n",
    "# samtools view -hb -f 4 host_align.bam > host_unmapped.bam\n",
    "# samtools view host_unmapped.bam | awk \\'{OFS=\"\\\\t\"; print \">\"$1\"\\\\n\"$10}\\' - > host_unmapped.fa\n",
    "\n",
    "inputfolder = \"./dataset/\"\n",
    "\n",
    "# make sure Kraken 2 is installed on your system along with its index containing the organisms of your choice and k=31\n",
    "# krakenTOOL=\"path/to/kraken2 --db /path/to/Kraken2/db/kraken2_k31\"\n",
    "krakenTOOL=\"../tools/kraken2/kraken2\"\n",
    "krakenDB=\"../tools/kraken2/db/bacvir_k32\"\n"
   ]
  },
  {
   "cell_type": "code",
   "execution_count": 5,
   "metadata": {},
   "outputs": [
    {
     "data": {
      "text/plain": [
       "'samtools view -hb -f 4 prefix_staralign.bam > prefix_humanUnmapped.bam'"
      ]
     },
     "execution_count": 5,
     "metadata": {},
     "output_type": "execute_result"
    }
   ],
   "source": [
    "samToolsCmdExtractUnaligned(\"prefix\")"
   ]
  },
  {
   "cell_type": "code",
   "execution_count": 31,
   "metadata": {},
   "outputs": [
    {
     "data": {
      "text/plain": [
       "False"
      ]
     },
     "execution_count": 31,
     "metadata": {},
     "output_type": "execute_result"
    }
   ],
   "source": [
    "def checkKrakenInstall():\n",
    "    if os.path.isfile(krakenTOOL) and os.path.isdir(krakenDB):\n",
    "        return(True)\n",
    "    else: \n",
    "        return(False)\n",
    "    \n",
    "checkKrakenInstall()"
   ]
  },
  {
   "cell_type": "code",
   "execution_count": 32,
   "metadata": {},
   "outputs": [
    {
     "name": "stdout",
     "output_type": "stream",
     "text": [
      "./dataset/\n",
      "dataset\n",
      "5 samples to process\n",
      "Problem with Kraken Installation. ABORT\n"
     ]
    },
    {
     "data": {
      "text/plain": [
       "()"
      ]
     },
     "execution_count": 32,
     "metadata": {},
     "output_type": "execute_result"
    }
   ],
   "source": [
    "processDataset(inputfolder)"
   ]
  },
  {
   "cell_type": "code",
   "execution_count": 29,
   "metadata": {},
   "outputs": [],
   "source": [
    "# run this cell, these are just definitions / functions\n",
    "\n",
    "samTOOLs = \"samtools \"\n",
    "\n",
    "def processDataset(inputfolder):\n",
    "    print(inputfolder)\n",
    "    ds = inputfolder.rsplit(\"/\", 2)[1]\n",
    "    print(ds)\n",
    "    argumentList = []\n",
    "    for file in os.listdir(inputfolder):\n",
    "        if os.path.isfile(inputfolder+file):\n",
    "            if file.endswith(\".fa\") or file.endswith(\".fasta\"):           \n",
    "                sample = file.replace(\".fasta\",\"\").replace(\".fa\",\"\")\n",
    "                odir = OUTPUT_DIR + ds + \"/\" + sample\n",
    "                s1 = inputfolder + file\n",
    "                tup = (ds, odir, sample, s1)\n",
    "                argumentList.append(tup)\n",
    "            else:\n",
    "                print(file + \" is not a fasta file, PASS\")\n",
    "        else:\n",
    "            print(file + \" is not a file! PASS\")\n",
    "            \n",
    "    print(str(len(argumentList)) + \" samples to process\")\n",
    "    \n",
    "    if not checkKrakenInstall():\n",
    "        print(\"Problem with Kraken Installation. ABORT\")\n",
    "        return()\n",
    "\n",
    "    allNucPerTaxList = parmap.starmap(runOneSample, argumentList, pm_processes=1, pm_pbar=True)\n",
    "    \n",
    "    print(\"merge and save results\")\n",
    "    allNucPerTax = dict()\n",
    "    for i in range(len(argumentList)):\n",
    "        allNucPerTax[argumentList[i][3]] = allNucPerTaxList[i]\n",
    "\n",
    "    dsdf = mergeNucTaxDataframes(allNucPerTax)\n",
    "    dsdf.to_csv(OUTPUT_DIR + ds + \"/\" + ds + \"_contamination.csv\")\n",
    "    print(ds + \" done\")\n",
    "    return(dsdf)\n",
    "\n",
    "def runOneSample(ds, outputdir, samplename, sample1):   \n",
    "    print(outputdir)\n",
    "    if(os.path.isdir(outputdir)):\n",
    "        print(outputdir + \" ALREADY EXISTS\")\n",
    "    else:\n",
    "        os.makedirs(outputdir)\n",
    "    outdir_prefix = outputdir + \"/\" + samplename\n",
    "    logfile = open(outdir_prefix + \"_pathonoiaLOG_\"+datetime.datetime.now().strftime(\"%Y%m%d\")+\".log\", \"a\") \n",
    "    \n",
    "    print(\"++++++++++++++\", file = logfile)\n",
    "    print(samplename + \"\\n\", file = logfile)\n",
    "    \n",
    "    print(\"Kraken2\", file = logfile)\n",
    "    if (os.path.isfile(outdir_prefix + \"_krakenalign.txt\")):\n",
    "        print(\"Kraken results already available, skip\", file = logfile)\n",
    "    else:\n",
    "        execute(KRAKENcommand(outdir_prefix, sample1),logfile)\n",
    "\n",
    "    print(\"evaluate\", file = logfile)\n",
    "    nucCutOff = 100\n",
    "    print(\"nucCutOff = \" + str(nucCutOff), file = logfile)\n",
    "    nucPerTax = pa.evalKrakenAlign(outdir_prefix, sample1, nucCutOff, logfile)\n",
    "    print(\"DONE\", file = logfile)\n",
    "    logfile.close()\n",
    "    print(samplename + \" done\")\n",
    "    return(nucPerTax)\n",
    "\n",
    "def execute(cmd, logfile):\n",
    "    print(cmd, file = logfile)\n",
    "    answer = \"cmd didnt run, uncommented\"\n",
    "    answer = os.system(cmd)\n",
    "    print(answer, file = logfile)    \n",
    "\n",
    "def samToolsCmdExtractUnaligned(outdir_prefix):\n",
    "    samPARAMETERS = \"view -hb -f 4 \"\n",
    "    samplePARAMETER = outdir_prefix + \"_staralign.bam\"\n",
    "    output = \" > \" + outdir_prefix + \"_humanUnmapped.bam\"\n",
    "    cmd = samTOOLs + samPARAMETERS + samplePARAMETER + output\n",
    "    return(cmd)   \n",
    "    \n",
    "def samToolsCmdUnalignedToFA(outdir_prefix):\n",
    "    samPARAMETERS = \"view \"\n",
    "    samplePARAMETER = outdir_prefix + \"_humanUnmapped.bam\"\n",
    "    awkCMD =  \" | awk '{OFS=\\\"\\\\t\\\"; print \\\">\\\"$1\\\"\\\\n\\\"$10}'\"\n",
    "    output = \" - > \" + outdir_prefix + \"_humanUnmapped.fa\"\n",
    "    cmd = samTOOLs + samPARAMETERS + samplePARAMETER + awkCMD + output\n",
    "    return(cmd)  \n",
    "\n",
    "def KRAKENcommand(outdir_prefix, sample):\n",
    "    #if you want to change settings here, make sure the spaces in the string stay the way they are\n",
    "    krakenPARAMETERS = \"--use-names --threads 8 \"\n",
    "    outputPARAMETER = \"--output \" + outdir_prefix + \"_krakenalign.txt --report \" + outdir_prefix + \"_krakenreport.txt \"\n",
    "    samplePARAMETER = sample\n",
    "    cmd = krakenTOOL + \" \" + krakenPARAMETERS + outputPARAMETER + samplePARAMETER\n",
    "    return(cmd)\n",
    "\n",
    "def checkKrakenInstall():\n",
    "    if os.path.isfile(krakenTOOL) and os.path.isdir(krakenDB):\n",
    "        return(True)\n",
    "    else: \n",
    "        return(False)\n",
    "        \n",
    "def mergeNucTaxDataframes(allNucPerTax):\n",
    "    infocols = ['species_name', 'phylo_level', 'parent']\n",
    "    \n",
    "    sampleList = list(allNucPerTax.keys())\n",
    "    listOfTaxInfo = []\n",
    "    for sample, df in allNucPerTax.items():\n",
    "        listOfTaxInfo.append(df[infocols])\n",
    "\n",
    "    taxInfoDF = pd.concat(listOfTaxInfo)\n",
    "    taxInfoDF = taxInfoDF.drop_duplicates()\n",
    "    \n",
    "    workingDF = allNucPerTax[sampleList[0]]    \n",
    "    workingDF.drop(infocols, axis=1, inplace=True)\n",
    "    workingDF.columns = [sampleList[0]]\n",
    "    for i in range(1,len(sampleList)):\n",
    "        toBeAddedDF = allNucPerTax[sampleList[i]]\n",
    "        toBeAddedDF.drop(infocols, axis=1, inplace=True)\n",
    "        toBeAddedDF.columns = [sampleList[i]]\n",
    "        workingDF = pd.concat([workingDF, toBeAddedDF], axis=1, sort=False)\n",
    "\n",
    "    workingDF[\"rowSum\"] = workingDF.sum(axis = 1)\n",
    "    workingDF = pd.concat([taxInfoDF,workingDF], axis = 1, sort=False)\n",
    "    workingDF.sort_values(by = 'rowSum', ascending=0, inplace = True)\n",
    "    workingDF.drop(\"rowSum\", axis = 1, inplace=True)\n",
    "    return(workingDF)\n",
    " "
   ]
  },
  {
   "cell_type": "code",
   "execution_count": null,
   "metadata": {},
   "outputs": [],
   "source": []
  },
  {
   "cell_type": "code",
   "execution_count": 17,
   "metadata": {},
   "outputs": [
    {
     "name": "stdout",
     "output_type": "stream",
     "text": [
      "./dataset/\n",
      "dataset\n",
      "5 samples to process\n",
      "./OUTPUT/dataset/buccal_humanUnmapped\n",
      "./OUTPUT/dataset/hous1_humanUnmapped\n",
      "./OUTPUT/dataset/soil_humanUnmapped\n"
     ]
    },
    {
     "ename": "FileNotFoundError",
     "evalue": "[Errno 2] No such file or directory: './OUTPUT/dataset/buccal_humanUnmapped/buccal_humanUnmapped_krakenalign.txt'",
     "output_type": "error",
     "traceback": [
      "\u001b[0;31m---------------------------------------------------------------------------\u001b[0m",
      "\u001b[0;31mRemoteTraceback\u001b[0m                           Traceback (most recent call last)",
      "\u001b[0;31mRemoteTraceback\u001b[0m: \n\"\"\"\nTraceback (most recent call last):\n  File \"/usr/lib/python3.8/multiprocessing/pool.py\", line 125, in worker\n    result = (True, func(*args, **kwds))\n  File \"/usr/lib/python3.8/multiprocessing/pool.py\", line 48, in mapstar\n    return list(map(*args))\n  File \"/home/anna/.local/lib/python3.8/site-packages/parmap/parmap.py\", line 116, in _func_star_many\n    return func_items_args[0](*list(func_items_args[1]) + func_items_args[2],\n  File \"<ipython-input-9-5bf410e5145c>\", line 58, in runOneSample\n    nucPerTax = pa.evalKrakenAlign(outdir_prefix, sample1, nucCutOff, logfile)\n  File \"/home/anna/Pathonoia/pathonoia/p_sample.py\", line 10, in evalKrakenAlign\n  File \"/home/anna/Pathonoia/pathonoia/p_sample.py\", line 49, in xmerMapFromKrakenAligned\n  File \"/home/anna/Pathonoia/pathonoia/p_sample.py\", line 118, in testFilesCorrespondingReads\nFileNotFoundError: [Errno 2] No such file or directory: './OUTPUT/dataset/buccal_humanUnmapped/buccal_humanUnmapped_krakenalign.txt'\n\"\"\"",
      "\nThe above exception was the direct cause of the following exception:\n",
      "\u001b[0;31mFileNotFoundError\u001b[0m                         Traceback (most recent call last)",
      "\u001b[0;32m<ipython-input-17-90538c87d6cb>\u001b[0m in \u001b[0;36m<module>\u001b[0;34m\u001b[0m\n\u001b[0;32m----> 1\u001b[0;31m \u001b[0mds_contamination\u001b[0m \u001b[0;34m=\u001b[0m \u001b[0mprocessDataset\u001b[0m\u001b[0;34m(\u001b[0m\u001b[0minputfolder\u001b[0m\u001b[0;34m)\u001b[0m\u001b[0;34m\u001b[0m\u001b[0;34m\u001b[0m\u001b[0m\n\u001b[0m",
      "\u001b[0;32m<ipython-input-15-fc7b94c56fa5>\u001b[0m in \u001b[0;36mprocessDataset\u001b[0;34m(inputfolder)\u001b[0m\n\u001b[1;32m     23\u001b[0m     \u001b[0mprint\u001b[0m\u001b[0;34m(\u001b[0m\u001b[0mstr\u001b[0m\u001b[0;34m(\u001b[0m\u001b[0mlen\u001b[0m\u001b[0;34m(\u001b[0m\u001b[0margumentList\u001b[0m\u001b[0;34m)\u001b[0m\u001b[0;34m)\u001b[0m \u001b[0;34m+\u001b[0m \u001b[0;34m\" samples to process\"\u001b[0m\u001b[0;34m)\u001b[0m\u001b[0;34m\u001b[0m\u001b[0;34m\u001b[0m\u001b[0m\n\u001b[1;32m     24\u001b[0m \u001b[0;34m\u001b[0m\u001b[0m\n\u001b[0;32m---> 25\u001b[0;31m     \u001b[0mallNucPerTaxList\u001b[0m \u001b[0;34m=\u001b[0m \u001b[0mparmap\u001b[0m\u001b[0;34m.\u001b[0m\u001b[0mstarmap\u001b[0m\u001b[0;34m(\u001b[0m\u001b[0mrunOneSample\u001b[0m\u001b[0;34m,\u001b[0m \u001b[0margumentList\u001b[0m\u001b[0;34m,\u001b[0m \u001b[0mpm_processes\u001b[0m\u001b[0;34m=\u001b[0m\u001b[0;36m1\u001b[0m\u001b[0;34m,\u001b[0m \u001b[0mpm_pbar\u001b[0m\u001b[0;34m=\u001b[0m\u001b[0;32mTrue\u001b[0m\u001b[0;34m)\u001b[0m\u001b[0;34m\u001b[0m\u001b[0;34m\u001b[0m\u001b[0m\n\u001b[0m\u001b[1;32m     26\u001b[0m \u001b[0;34m\u001b[0m\u001b[0m\n\u001b[1;32m     27\u001b[0m     \u001b[0mprint\u001b[0m\u001b[0;34m(\u001b[0m\u001b[0;34m\"merge and save results\"\u001b[0m\u001b[0;34m)\u001b[0m\u001b[0;34m\u001b[0m\u001b[0;34m\u001b[0m\u001b[0m\n",
      "\u001b[0;32m~/.local/lib/python3.8/site-packages/parmap/parmap.py\u001b[0m in \u001b[0;36mstarmap\u001b[0;34m(function, iterables, *args, **kwargs)\u001b[0m\n\u001b[1;32m    322\u001b[0m        \u001b[0;34m:\u001b[0m\u001b[0mtype\u001b[0m \u001b[0mpm_pbar\u001b[0m\u001b[0;34m:\u001b[0m \u001b[0mbool\u001b[0m\u001b[0;34m\u001b[0m\u001b[0;34m\u001b[0m\u001b[0m\n\u001b[1;32m    323\u001b[0m     \"\"\"\n\u001b[0;32m--> 324\u001b[0;31m     \u001b[0;32mreturn\u001b[0m \u001b[0m_map_or_starmap\u001b[0m\u001b[0;34m(\u001b[0m\u001b[0mfunction\u001b[0m\u001b[0;34m,\u001b[0m \u001b[0miterables\u001b[0m\u001b[0;34m,\u001b[0m \u001b[0margs\u001b[0m\u001b[0;34m,\u001b[0m \u001b[0mkwargs\u001b[0m\u001b[0;34m,\u001b[0m \u001b[0;34m\"starmap\"\u001b[0m\u001b[0;34m)\u001b[0m\u001b[0;34m\u001b[0m\u001b[0;34m\u001b[0m\u001b[0m\n\u001b[0m\u001b[1;32m    325\u001b[0m \u001b[0;34m\u001b[0m\u001b[0m\n\u001b[1;32m    326\u001b[0m \u001b[0;34m\u001b[0m\u001b[0m\n",
      "\u001b[0;32m~/.local/lib/python3.8/site-packages/parmap/parmap.py\u001b[0m in \u001b[0;36m_map_or_starmap\u001b[0;34m(function, iterable, args, kwargs, map_or_starmap)\u001b[0m\n\u001b[1;32m    246\u001b[0m                                          repeat(kwargs)),\n\u001b[1;32m    247\u001b[0m                                     chunksize)\n\u001b[0;32m--> 248\u001b[0;31m             \u001b[0moutput\u001b[0m \u001b[0;34m=\u001b[0m \u001b[0mresult\u001b[0m\u001b[0;34m.\u001b[0m\u001b[0mget\u001b[0m\u001b[0;34m(\u001b[0m\u001b[0;34m)\u001b[0m\u001b[0;34m\u001b[0m\u001b[0;34m\u001b[0m\u001b[0m\n\u001b[0m\u001b[1;32m    249\u001b[0m         \u001b[0;32mexcept\u001b[0m\u001b[0;34m:\u001b[0m\u001b[0;34m\u001b[0m\u001b[0;34m\u001b[0m\u001b[0m\n\u001b[1;32m    250\u001b[0m             \u001b[0;32mif\u001b[0m \u001b[0mclose_pool\u001b[0m\u001b[0;34m:\u001b[0m\u001b[0;34m\u001b[0m\u001b[0;34m\u001b[0m\u001b[0m\n",
      "\u001b[0;32m/usr/lib/python3.8/multiprocessing/pool.py\u001b[0m in \u001b[0;36mget\u001b[0;34m(self, timeout)\u001b[0m\n\u001b[1;32m    769\u001b[0m             \u001b[0;32mreturn\u001b[0m \u001b[0mself\u001b[0m\u001b[0;34m.\u001b[0m\u001b[0m_value\u001b[0m\u001b[0;34m\u001b[0m\u001b[0;34m\u001b[0m\u001b[0m\n\u001b[1;32m    770\u001b[0m         \u001b[0;32melse\u001b[0m\u001b[0;34m:\u001b[0m\u001b[0;34m\u001b[0m\u001b[0;34m\u001b[0m\u001b[0m\n\u001b[0;32m--> 771\u001b[0;31m             \u001b[0;32mraise\u001b[0m \u001b[0mself\u001b[0m\u001b[0;34m.\u001b[0m\u001b[0m_value\u001b[0m\u001b[0;34m\u001b[0m\u001b[0;34m\u001b[0m\u001b[0m\n\u001b[0m\u001b[1;32m    772\u001b[0m \u001b[0;34m\u001b[0m\u001b[0m\n\u001b[1;32m    773\u001b[0m     \u001b[0;32mdef\u001b[0m \u001b[0m_set\u001b[0m\u001b[0;34m(\u001b[0m\u001b[0mself\u001b[0m\u001b[0;34m,\u001b[0m \u001b[0mi\u001b[0m\u001b[0;34m,\u001b[0m \u001b[0mobj\u001b[0m\u001b[0;34m)\u001b[0m\u001b[0;34m:\u001b[0m\u001b[0;34m\u001b[0m\u001b[0;34m\u001b[0m\u001b[0m\n",
      "\u001b[0;31mFileNotFoundError\u001b[0m: [Errno 2] No such file or directory: './OUTPUT/dataset/buccal_humanUnmapped/buccal_humanUnmapped_krakenalign.txt'"
     ]
    }
   ],
   "source": [
    "ds_contamination = processDataset(inputfolder)"
   ]
  },
  {
   "cell_type": "code",
   "execution_count": null,
   "metadata": {},
   "outputs": [],
   "source": [
    "\n",
    "ds_contamination.loc[ds_contamination.phylo_level.str.contains(\"S\", na=False),]"
   ]
  },
  {
   "cell_type": "code",
   "execution_count": 52,
   "metadata": {},
   "outputs": [],
   "source": [
    "nucCutOff = 100\n",
    "df = pd.DataFrame.from_dict(taxMap, orient='index', columns=['nucleotides'])\n",
    "df.sort_values(by = \"nucleotides\", ascending=False, inplace=True)\n",
    "df_all = df.join(taxInfo)\n",
    "df = df_all.loc[df_all.phylo_level.str.contains(\"S\", na=False),]\n",
    "df = df.loc[df[\"nucleotides\"]>nucCutOff,]\n",
    "\n",
    "for taxId in df.index:\n",
    "    species_nucs = df.loc[taxId,\"nucleotides\"]\n",
    "    parent = df.loc[taxId,\"parent\"]\n",
    "    level = taxInfo.loc[parent,\"phylo_level\"]\n",
    "    while(\"S\" in level or \"G\" in level or \"F\" in level):\n",
    "        if(parent in df_all.index):\n",
    "            species_nucs = species_nucs + df_all.loc[parent,\"nucleotides\"]\n",
    "        parent = taxInfo.loc[parent,\"parent\"]\n",
    "        level = taxInfo.loc[parent,\"phylo_level\"]\n",
    "    df.loc[taxId,\"nucleotides\"] = species_nucs"
   ]
  },
  {
   "cell_type": "code",
   "execution_count": 53,
   "metadata": {},
   "outputs": [
    {
     "data": {
      "text/html": [
       "<div>\n",
       "<style scoped>\n",
       "    .dataframe tbody tr th:only-of-type {\n",
       "        vertical-align: middle;\n",
       "    }\n",
       "\n",
       "    .dataframe tbody tr th {\n",
       "        vertical-align: top;\n",
       "    }\n",
       "\n",
       "    .dataframe thead th {\n",
       "        text-align: right;\n",
       "    }\n",
       "</style>\n",
       "<table border=\"1\" class=\"dataframe\">\n",
       "  <thead>\n",
       "    <tr style=\"text-align: right;\">\n",
       "      <th></th>\n",
       "      <th>nucleotides</th>\n",
       "      <th>species_name</th>\n",
       "      <th>phylo_level</th>\n",
       "      <th>parent</th>\n",
       "    </tr>\n",
       "  </thead>\n",
       "  <tbody>\n",
       "    <tr>\n",
       "      <th>1969841</th>\n",
       "      <td>57530</td>\n",
       "      <td>Proteus phage VB_PmiS-Isfahan</td>\n",
       "      <td>S</td>\n",
       "      <td>2315205</td>\n",
       "    </tr>\n",
       "    <tr>\n",
       "      <th>1747</th>\n",
       "      <td>47554</td>\n",
       "      <td>Cutibacterium acnes</td>\n",
       "      <td>S</td>\n",
       "      <td>1912216</td>\n",
       "    </tr>\n",
       "    <tr>\n",
       "      <th>305</th>\n",
       "      <td>26988</td>\n",
       "      <td>Ralstonia solanacearum</td>\n",
       "      <td>S</td>\n",
       "      <td>48736</td>\n",
       "    </tr>\n",
       "    <tr>\n",
       "      <th>527028</th>\n",
       "      <td>22983</td>\n",
       "      <td>Bacillus thuringiensis serovar pulsiensis BGSC...</td>\n",
       "      <td>S2</td>\n",
       "      <td>180877</td>\n",
       "    </tr>\n",
       "    <tr>\n",
       "      <th>166122</th>\n",
       "      <td>19045</td>\n",
       "      <td>Human endogenous retrovirus K113</td>\n",
       "      <td>S1</td>\n",
       "      <td>45617</td>\n",
       "    </tr>\n",
       "    <tr>\n",
       "      <th>...</th>\n",
       "      <td>...</td>\n",
       "      <td>...</td>\n",
       "      <td>...</td>\n",
       "      <td>...</td>\n",
       "    </tr>\n",
       "    <tr>\n",
       "      <th>68895</th>\n",
       "      <td>2014</td>\n",
       "      <td>Cupriavidus basilensis</td>\n",
       "      <td>S</td>\n",
       "      <td>106589</td>\n",
       "    </tr>\n",
       "    <tr>\n",
       "      <th>72000</th>\n",
       "      <td>389</td>\n",
       "      <td>Kocuria rhizophila</td>\n",
       "      <td>S</td>\n",
       "      <td>57493</td>\n",
       "    </tr>\n",
       "    <tr>\n",
       "      <th>69395</th>\n",
       "      <td>1240</td>\n",
       "      <td>Caulobacter henricii</td>\n",
       "      <td>S</td>\n",
       "      <td>75</td>\n",
       "    </tr>\n",
       "    <tr>\n",
       "      <th>1017</th>\n",
       "      <td>2093</td>\n",
       "      <td>Capnocytophaga gingivalis</td>\n",
       "      <td>S</td>\n",
       "      <td>1016</td>\n",
       "    </tr>\n",
       "    <tr>\n",
       "      <th>44008</th>\n",
       "      <td>136</td>\n",
       "      <td>Enterococcus cecorum</td>\n",
       "      <td>S</td>\n",
       "      <td>1350</td>\n",
       "    </tr>\n",
       "  </tbody>\n",
       "</table>\n",
       "<p>143 rows × 4 columns</p>\n",
       "</div>"
      ],
      "text/plain": [
       "         nucleotides                                       species_name  \\\n",
       "1969841        57530                      Proteus phage VB_PmiS-Isfahan   \n",
       "1747           47554                                Cutibacterium acnes   \n",
       "305            26988                             Ralstonia solanacearum   \n",
       "527028         22983  Bacillus thuringiensis serovar pulsiensis BGSC...   \n",
       "166122         19045                   Human endogenous retrovirus K113   \n",
       "...              ...                                                ...   \n",
       "68895           2014                             Cupriavidus basilensis   \n",
       "72000            389                                 Kocuria rhizophila   \n",
       "69395           1240                               Caulobacter henricii   \n",
       "1017            2093                          Capnocytophaga gingivalis   \n",
       "44008            136                               Enterococcus cecorum   \n",
       "\n",
       "        phylo_level   parent  \n",
       "1969841           S  2315205  \n",
       "1747              S  1912216  \n",
       "305               S    48736  \n",
       "527028           S2   180877  \n",
       "166122           S1    45617  \n",
       "...             ...      ...  \n",
       "68895             S   106589  \n",
       "72000             S    57493  \n",
       "69395             S       75  \n",
       "1017              S     1016  \n",
       "44008             S     1350  \n",
       "\n",
       "[143 rows x 4 columns]"
      ]
     },
     "execution_count": 53,
     "metadata": {},
     "output_type": "execute_result"
    }
   ],
   "source": [
    "df"
   ]
  },
  {
   "cell_type": "code",
   "execution_count": null,
   "metadata": {},
   "outputs": [],
   "source": []
  },
  {
   "cell_type": "code",
   "execution_count": null,
   "metadata": {},
   "outputs": [],
   "source": []
  },
  {
   "cell_type": "code",
   "execution_count": null,
   "metadata": {},
   "outputs": [],
   "source": [
    "# setup Kraken 2 for Pathonoia\n",
    "#\n",
    "git clone https://github.com/DerrickWood/kraken2.git\n",
    "cd kraken2/\n",
    "./install_kraken2.sh .\n",
    "mkdir db\n",
    "./kraken2-build --download-taxonomy --db db/bacvir_k31 #?--skip-maps\n",
    "./kraken2-build --download-library bacteria --db db/bacvir_k31 --use-ftp\n",
    "./kraken2-build --download-library viral --db db/bacvir_k31 --use-ftp\n",
    "\n",
    "./kraken2-build --build --db db/bacvir_k31 --threads 8 --kmer-len 31 --minimizer-len 31\n",
    "\n",
    "./kraken2-build --clean --db db/bacvir_k31"
   ]
  }
 ],
 "metadata": {
  "kernelspec": {
   "display_name": "Python 3",
   "language": "python",
   "name": "python3"
  },
  "language_info": {
   "codemirror_mode": {
    "name": "ipython",
    "version": 3
   },
   "file_extension": ".py",
   "mimetype": "text/x-python",
   "name": "python",
   "nbconvert_exporter": "python",
   "pygments_lexer": "ipython3",
   "version": "3.8.5"
  }
 },
 "nbformat": 4,
 "nbformat_minor": 2
}
