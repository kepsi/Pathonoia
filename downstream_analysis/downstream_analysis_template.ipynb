{
 "cells": [
  {
   "cell_type": "code",
   "execution_count": null,
   "metadata": {},
   "outputs": [],
   "source": [
    "# in case you dont have the packages installed, \n",
    "# use these for installation in an R kernel for jupyter notebook\n",
    "\n",
    "#install.packages(\"tidyr\")\n",
    "#install.packages(\"ggfortify\")\n",
    "#install.packages(\"ggrepel\")\n",
    "#install.packages(\"BiocManager\")\n",
    "#install.packages(\"WebGestaltR\")\n",
    "#Sys.setenv(R_INSTALL_STAGED = FALSE)\n",
    "#BiocManager::install(\"DESeq2\")\n",
    "#BiocManager::install(\"cowplot\")"
   ]
  },
  {
   "cell_type": "code",
   "execution_count": null,
   "metadata": {
    "scrolled": true
   },
   "outputs": [],
   "source": [
    "# load libraries required in this notebook\n",
    "\n",
    "library(tidyr)\n",
    "library(DESeq2)\n",
    "library(ggplot2)\n",
    "library(reshape2)\n",
    "library(dplyr)\n",
    "library(Rtsne)\n",
    "library(caret)\n",
    "library(ggfortify)\n",
    "library(ggrepel)\n",
    "library(WebGestaltR)\n",
    "library(RCurl)"
   ]
  },
  {
   "cell_type": "code",
   "execution_count": null,
   "metadata": {},
   "outputs": [],
   "source": [
    "# definition of function for plotting PCA colored with different metadata\n",
    "# needed later\n",
    "preparePCAplots = function(pca, metadata_of_interest){\n",
    "\n",
    "    data_to_plot <- cbind(data.frame(PC1 = pca$x[,1], PC2 = pca$x[,2]), metadata_of_interest)\n",
    "    features_to_plot <- setdiff(colnames(data_to_plot), c(\"PC1\", \"PC2\"))\n",
    "    features_to_plot <- setNames(features_to_plot, features_to_plot)\n",
    "    all_plots_pca <- lapply(features_to_plot,\n",
    "           function(col) {\n",
    "                        gg = ggplot(data = data_to_plot) +\n",
    "                        geom_point(aes(x = PC1, y = PC2, color = !!sym(col)), size = 5) +\n",
    "                        theme(legend.position = \"bottom\", legend.margin=margin(t=0, unit=\"pt\"),  \n",
    "                              text = element_text(size=14), \n",
    "                              legend.title = element_text(size = 10),\n",
    "                        legend.text = element_text(size = 10)) + xlab(\"\") + ylab(\"\") # xlim(-5,5) + ylim(-5,5)+ \n",
    "                        if (class(data_to_plot[,col]) == \"factor\")\n",
    "                        gg = gg + guides(colour = guide_legend(title.position = \"top\", nrow = 2))\n",
    "                        if (class(data_to_plot[,col]) == \"character\")\n",
    "                        gg = gg + guides(colour = guide_legend(title.position = \"top\", nrow = 3))\n",
    "                          \n",
    "           return(gg)}\n",
    "    )\n",
    "    return(all_plots_pca)\n",
    "}"
   ]
  },
  {
   "cell_type": "code",
   "execution_count": null,
   "metadata": {},
   "outputs": [],
   "source": [
    "# define where Pathonoia output is stored. or example generated in with \n",
    "# Pathonoia/pathonoia_notebook.ipynb \n",
    "# it is the input for this downstream analysis\n",
    "\n",
    "inputfolder = \"~/Pathonoia/OUTPUT/\"\n",
    "\n",
    "# subfolder in OUTPUT folder in case you have more than one dataset\n",
    "ds = \"FTD\""
   ]
  },
  {
   "cell_type": "markdown",
   "metadata": {},
   "source": [
    "# Loading and Processing of Data and Metadata"
   ]
  },
  {
   "cell_type": "code",
   "execution_count": null,
   "metadata": {},
   "outputs": [],
   "source": [
    "# You might define outliers later which will be ignored \n",
    "# when loading the data.\n",
    "# For now define empty variable\n",
    "\n",
    "pca_outlier = c()"
   ]
  },
  {
   "cell_type": "code",
   "execution_count": null,
   "metadata": {
    "scrolled": true
   },
   "outputs": [],
   "source": [
    "# read in Pathonoia Abundance file\n",
    "counts = read.table(paste0(inputfolder,ds,\"_contamination_aggregated.csv\"), sep = \",\", header=TRUE, check.names = FALSE, row.names = \"\")\n",
    "\n",
    "# remove Outliers if defined\n",
    "# print Outlier sample names if defined\n",
    "if(exists(\"pca_outlier\")){\n",
    "    print(pca_outlier)\n",
    "    counts = counts[,!(colnames(counts) %in% pca_outlier)]\n",
    "} else {\n",
    "    pca_outlier = c()\n",
    "}\n",
    "\n",
    "# split out information columns from the count data \n",
    "# and store in seperate variable\n",
    "pathoInfoCols = c(\"species_name\",\"phylo_level\",\"parent\")\n",
    "pathoInfo = counts[pathoInfoCols]\n",
    "counts = counts[,!colnames(counts) %in% pathoInfoCols]\n",
    "\n",
    "# set NA values in count matrix to zero\n",
    "counts[is.na(counts)]=0\n",
    "\n",
    "# display matrix which should have sample names in columns\n",
    "# and taxonomic IDs in row names\n",
    "counts"
   ]
  },
  {
   "cell_type": "code",
   "execution_count": null,
   "metadata": {
    "scrolled": true
   },
   "outputs": [],
   "source": [
    "# If outliers were removed, zero rows might have been introduced. \n",
    "# They'll be removed with this code\n",
    "# Additionally were sparse rows can be removed (adjustable)\n",
    "\n",
    "noOfOutliers = length(pca_outlier)\n",
    "numberOfZerosAllowed = length(counts)*0.99\n",
    "counts_lessSparse = counts[!(rowSums(counts == 0) > numberOfZerosAllowed),]\n",
    "table(duplicated(counts_lessSparse))\n",
    "counts = counts_lessSparse"
   ]
  },
  {
   "cell_type": "code",
   "execution_count": null,
   "metadata": {
    "scrolled": true
   },
   "outputs": [],
   "source": [
    "# load the metadata from file\n",
    "metadata = read.table(paste0(inputfolder,\"metadata.csv\"))\n",
    "# set rownames with sample IDs used in count matrix.\n",
    "# this might need adjustments, adjust accordingly\n",
    "# e.g. \n",
    "rownames(metadata) = metadata$sample\n",
    "# or\n",
    "# rownames(metadata) = substr(rownames(metadata),1,5)\n",
    "\n",
    "# align metadata with count file\n",
    "metadata = metadata[colnames(counts),]\n",
    "\n",
    "# look at your own metadata variables, \n",
    "# do you want to analise the PCA with all columns?\n",
    "colnames(metadata)\n",
    "\n",
    "# get insights to your metadata, for example with\n",
    "table(metadata$CASE.CONTROL)\n",
    "\n",
    "# you may want to do some cleaning of your metadata, \n",
    "# for example like this\n",
    "# metadata$fibrosis = gsub('0-1', '0.5', metadata$fibrosis)\n",
    "# metadata$PH = as.numeric(metadata$PH)\n",
    "\n",
    "# look at your metadata\n",
    "metadata"
   ]
  },
  {
   "cell_type": "code",
   "execution_count": null,
   "metadata": {
    "scrolled": true
   },
   "outputs": [],
   "source": [
    "# select your comuns  (of metadata) of interest, for example\n",
    "cols_of_interest = c(\"sex\",'age','diagnosis','fibrosis','mHAI')\n",
    "\n",
    "metadata_of_interest = metadata[rownames(t(counts)),cols_of_interest]\n",
    "metadata_of_interest"
   ]
  },
  {
   "cell_type": "code",
   "execution_count": null,
   "metadata": {
    "scrolled": true
   },
   "outputs": [],
   "source": [
    "# COME BACK TO THIS CELL LATER, \n",
    "# when you have identified an Organism of Interest\n",
    "\n",
    "# add the abundance data of one specific organism (tax ID) \n",
    "# to the metadata of interest for visualization in PCR\n",
    "\n",
    "metadata_of_interest = cbind(metadata_of_interest,t(counts[\"95485\",rownames(metadata_of_interest)]))\n",
    "metadata_of_interest$\"95485\" = as.factor(metadata_of_interest$\"95485\")\n",
    "metadata_of_interest"
   ]
  },
  {
   "cell_type": "markdown",
   "metadata": {},
   "source": [
    "# PCA analysis"
   ]
  },
  {
   "cell_type": "code",
   "execution_count": null,
   "metadata": {},
   "outputs": [],
   "source": [
    "#calculate PCA from counts\n",
    "pca <- prcomp(t(counts), scale = TRUE)\n",
    "\n",
    "#adjust size of your plot\n",
    "options(repr.plot.width=8, repr.plot.height=6)\n",
    "\n",
    "# plot your PCA\n",
    "# set label = TRUE if you want to see sample names (for Outlier identification)\n",
    "autoplot(pca, label = FALSE, size = 4, label.vjust = 1.5) + theme(text = element_text(size=18))\n"
   ]
  },
  {
   "cell_type": "code",
   "execution_count": null,
   "metadata": {},
   "outputs": [],
   "source": [
    "# define Outliers which you would like to remove from the analysis\n",
    "pca_outlier = c('samplename1','sample34','s67')\n",
    "\n",
    "# if you wish to reset:\n",
    "#pca_outlier = c()\n",
    "\n",
    "# RUN CELLS AGAIN FROM ABOVE loading the data"
   ]
  },
  {
   "cell_type": "code",
   "execution_count": null,
   "metadata": {
    "scrolled": true
   },
   "outputs": [],
   "source": [
    "# prepare plots for coloring with metadata\n",
    "all_plots_pca = preparePCAplots(pca,metadata_of_interest)\n",
    "\n",
    "# set plot size\n",
    "options(repr.plot.width=20, repr.plot.height=40)\n",
    "\n",
    "# plot all with metadata of interest\n",
    "cowplot::plot_grid(plotlist = all_plots_pca, ncol = 4, align = \"h\") "
   ]
  },
  {
   "cell_type": "markdown",
   "metadata": {},
   "source": [
    "# Differential Expression"
   ]
  },
  {
   "cell_type": "code",
   "execution_count": null,
   "metadata": {},
   "outputs": [],
   "source": [
    "# define the two groups that you want to compare, for example\n",
    "metadata$DE_GROUP = metadata$`CASE.CONTROL`\n",
    "# or\n",
    "# metadata$DE_GROUP = metadata$fibrosis < 1"
   ]
  },
  {
   "cell_type": "code",
   "execution_count": null,
   "metadata": {
    "scrolled": false
   },
   "outputs": [],
   "source": [
    "# run DESeq2 on abundance counts\n",
    "\n",
    "dds <- DESeqDataSetFromMatrix(countData = counts[,rownames(metadata)],\n",
    "                              colData = metadata,\n",
    "                              design= ~ CASE.CONTROL)\n",
    "dds <- DESeq(dds)\n",
    "resultsNames(dds) "
   ]
  },
  {
   "cell_type": "code",
   "execution_count": null,
   "metadata": {
    "scrolled": false
   },
   "outputs": [],
   "source": [
    "# add taxonomy information to differential abundance results\n",
    "# filter for significant results only (adjusted p-value < 0.05)\n",
    "# sort by p-value and display results\n",
    "\n",
    "deres = as.data.frame(results(dds, name=resultsNames(dds)[2]))\n",
    "r = cbind(pathoInfo[rownames(deres),pathoInfoCols],deres)\n",
    "r = r[r$padj<0.05 & !is.na(r$padj),]\n",
    "r = r[order(r$padj),]\n",
    "r"
   ]
  },
  {
   "cell_type": "code",
   "execution_count": null,
   "metadata": {},
   "outputs": [],
   "source": [
    "# plot abundance counts of 12 (adjust as desired) most significant organisms\n",
    "# define (in code line 6) metadata column according to which \n",
    "# the counts should be split per organism sub-plot \n",
    "\n",
    "topX = 12\n",
    "samples = rownames(metadata_of_interest)\n",
    "t = counts[rownames(r[1:topX,]),samples] \n",
    "t$organism = r[1:topX,\"species_name\"]\n",
    "t = gather(t, key = \"sample\", value = \"abundance\", -organism)\n",
    "\n",
    "# replace 'fibrosis' with your metadata column of interest.\n",
    "t = cbind(t, cc = metadata_of_interest[t$sample,\"fibrosis\"])\n",
    "# or\n",
    "# t = cbind(t, cc = metadata[t$sample,\"DE_GROUP\"])\n",
    "\n",
    "# adjust plot size\n",
    "options(repr.plot.width=18, repr.plot.height=12)\n",
    "\n",
    "# plotting function for all top organisms, change xlabel in last line as desired\n",
    "ggplot(t, aes(x = cc, y = abundance)) + theme_minimal() + \n",
    "    geom_jitter(width = 0.15, size=5) +\n",
    "    stat_summary(fun=mean, geom=\"point\", shape=95, size=18, color=\"blue\") + \n",
    "    stat_summary(fun=median, geom=\"point\", shape=95, size=18, color=\"red\") +\n",
    "    theme(text = element_text(size=14), strip.text = element_text(size=18))+ \n",
    "    facet_wrap(facets = \"organism\", scales = \"free\", ncol=3) + \n",
    "    ggtitle(paste(\"red = median, blue = mean\")) + xlab(\"your X label\") + ylab(\"Pathonoia Abundance\")\n"
   ]
  },
  {
   "cell_type": "code",
   "execution_count": null,
   "metadata": {},
   "outputs": [],
   "source": [
    "# Volcano Plot including coloring of most present organisms\n",
    "\n",
    "r = cbind(r, posi_samples = rowSums(counts[rownames(r),]>0))\n",
    "r$log10_padj=-log10(r$padj)\n",
    "\n",
    "# adjust the label_cutoff according to your dataset size\n",
    "# it only shows the names of the most present organisms\n",
    "label_cutoff = 9\n",
    "\n",
    "# plotsize\n",
    "options(repr.plot.width=9, repr.plot.height=6)\n",
    "\n",
    "# plotting function\n",
    "ggplot(r, aes(log2FoldChange, log10_padj, color= posi_samples, label=ifelse(posi_samples>label_cutoff, as.character(species_name),\"\"))) + \n",
    "geom_point(size=3) + theme_minimal() + geom_text_repel(min.segment.length = 0) \n"
   ]
  },
  {
   "cell_type": "code",
   "execution_count": null,
   "metadata": {},
   "outputs": [],
   "source": [
    "# NOW CHOOSE YOUR ORGANISM OF INTEREST\n",
    "# is it more than one? \n",
    "# run this several times or add several where appropriate\n",
    "\n",
    "# in this notebook we keep working with the taxID, not the species name\n",
    "# since they are the rownames in the count data\n",
    "# the link between tax ID and name can be (for example) found in pathoInfo\n",
    "\n",
    "taxID_OOI = \"95485\"\n",
    "\n",
    "# Scroll up to the PCA analysis and color it according to this taxID"
   ]
  },
  {
   "cell_type": "markdown",
   "metadata": {},
   "source": [
    "## DE Transcriptome\n",
    "\n",
    "here, we try to find evidence for the organisms of interest having influence on a sample group|"
   ]
  },
  {
   "cell_type": "code",
   "execution_count": null,
   "metadata": {
    "scrolled": true
   },
   "outputs": [],
   "source": [
    "# if you have RNAseq data for the same samples, get the gene count matrix, \n",
    "# for example derived with STAR\n",
    "\n",
    "genecounts = read.table(paste0(inputfolder,\"/RNAseq_gene_count_summary.txt\"), header = TRUE, row.names = 1)\n",
    "# only use those samples which were used in the previous analysis\n",
    "genecounts = genecounts[,samples]\n",
    "genecounts"
   ]
  },
  {
   "cell_type": "code",
   "execution_count": null,
   "metadata": {
    "scrolled": true
   },
   "outputs": [],
   "source": [
    "# prep for Differential Expression Analysis \n",
    "# using taxID of organism of interest\n",
    "metadata$GENE_DE =  as.factor(t(counts[taxID_OOI,rownames(metadata)] > 0)) # 0 genes\n",
    "\n",
    "# define a subgroup of samples, for example \"only patients\" \n",
    "# using the same metadata from before\n",
    "samples_gde = rownames(metadata[metadata$fibrosis >= 1,])\n",
    "metadata_gde = metadata[samples_gde,]\n",
    "genecounts = genecounts[,samples_gde]"
   ]
  },
  {
   "cell_type": "code",
   "execution_count": null,
   "metadata": {},
   "outputs": [],
   "source": [
    "# Run DESeq2 for differential gene expression analysis\n",
    "dds_g <- DESeqDataSetFromMatrix(countData = genecounts,\n",
    "                              colData = metadata_gde,\n",
    "                              design= ~ GENE_DE)\n",
    "dds_g <- DESeq(dds_g)\n",
    "resultsNames(dds_g) "
   ]
  },
  {
   "cell_type": "code",
   "execution_count": null,
   "metadata": {},
   "outputs": [],
   "source": [
    "# display only significant DE genes\n",
    "\n",
    "gderes = as.data.frame(results(dds_g, name=resultsNames(dds_g)[2]))\n",
    "gr = gderes[gderes$padj<0.05 & !is.na(gderes$padj),]\n",
    "gr\n",
    "\n",
    "# if this table is EMPTY, you might try different cut offs OR realize, \n",
    "# that there is absence of evidence that this organism \n",
    "# did anything to the sample group"
   ]
  },
  {
   "cell_type": "code",
   "execution_count": null,
   "metadata": {},
   "outputs": [],
   "source": [
    "# make sets of up-, down- regulated genes\n",
    "\n",
    "upregulated_genes = sapply(strsplit(rownames(gr[gr$log2FoldChange > 0,]), \".\", fixed=T), function(x) x[1])\n",
    "downregulated_genes = sapply(strsplit(rownames(gr[gr$log2FoldChange < 0,]), \".\", fixed=T), function(x) x[1])\n",
    "regulated_genes = sapply(strsplit(rownames(gr), \".\", fixed=T), function(x) x[1])\n",
    "\n",
    "# display genes downregulated (adjust with other var names) \n",
    "# by the organism of interest in the selected sample group\n",
    "downregulated_genes"
   ]
  },
  {
   "cell_type": "markdown",
   "metadata": {},
   "source": [
    "## Gene Ontology Analysis with WebGestalt\n",
    "\n",
    "In case you some dis-regulated genes could be identified, a gene ontology analysis can be executed with the following code"
   ]
  },
  {
   "cell_type": "code",
   "execution_count": null,
   "metadata": {},
   "outputs": [],
   "source": [
    "# this cell is setting up the analysis with WebGestalt\n",
    "# you may want to adjust some parameters, for example\n",
    "# interestGeneType=\"ensembl_gene_id\"\n",
    "# change this according to the gene identifiers that were used \n",
    "# in your gene count matrix\n",
    "\n",
    "# make sure the folder \"GO_results\" exists in your working directory \n",
    "# or change it accordingly\n",
    "\n",
    "WebGes_BioProc <- function(genes, projectname){\n",
    "    WebGestaltR(enrichMethod=\"ORA\", organism=\"hsapiens\",\n",
    "    enrichDatabase=\"geneontology_Biological_Process\",\n",
    "    interestGene=genes,interestGeneType=\"ensembl_gene_id\",referenceGeneType=\"genesymbol\",\n",
    "    referenceSet=\"genome_protein-coding\", minNum=5, maxNum=2000,\n",
    "    fdrMethod=\"BH\",sigMethod=\"fdr\",fdrThr=0.05,topThr=10,reportNum=20,perNum=1000,\n",
    "    nThreads=64,\n",
    "    isOutput=TRUE,outputDirectory=\"GO_results/GO_Analysis_biolProcess_FDR05\",projectName=projectname,\n",
    "    dagColor=\"continuous\",hostName=\"http://www.webgestalt.org/\")\n",
    "}\n",
    "\n",
    "WebGes_MolFun <- function(genes, projectname){\n",
    "    WebGestaltR(enrichMethod=\"ORA\", organism=\"hsapiens\",\n",
    "    enrichDatabase=\"geneontology_Molecular_Function\",\n",
    "    interestGene=genes,interestGeneType=\"ensembl_gene_id\",referenceGeneType=\"genesymbol\",\n",
    "    referenceSet=\"genome_protein-coding\", minNum=5, maxNum=2000,\n",
    "    fdrMethod=\"BH\",sigMethod=\"fdr\",fdrThr=0.05,topThr=10,reportNum=20,perNum=1000,\n",
    "    nThreads=64,\n",
    "    isOutput=TRUE,outputDirectory=\"GO_results/GO_Analysis_molFunction_FDR05\",projectName=projectname,\n",
    "    dagColor=\"continuous\",hostName=\"http://www.webgestalt.org/\")\n",
    "}\n",
    "\n"
   ]
  },
  {
   "cell_type": "code",
   "execution_count": null,
   "metadata": {},
   "outputs": [],
   "source": [
    "# create folder names and run WebGestalt for all sets\n",
    "\n",
    "projectname = paste0(ds, \"_\", taxID_OOI, \"_\")\n",
    "\n",
    "WebGes_BioProc(upregulated_genes, paste0(projectname,\"upDEgenes\"))\n",
    "WebGes_BioProc(downregulated_genes, paste0(projectname,\"downDEgenes\"))\n",
    "WebGes_BioProc(regulated_genes, paste0(projectname,\"DEgenes\"))\n",
    "WebGes_MolFun(upregulated_genes, paste0(projectname,\"_upDEgenes\"))\n",
    "WebGes_MolFun(downregulated_genes, paste0(projectname,\"downDEgenes\"))\n",
    "WebGes_MolFun(regulated_genes, paste0(projectname,\"DEgenes\"))\n",
    "\n",
    "# explore the results in the GO_results folder. \n",
    "# for example in the containing HTML file"
   ]
  },
  {
   "cell_type": "code",
   "execution_count": null,
   "metadata": {},
   "outputs": [],
   "source": []
  }
 ],
 "metadata": {
  "kernelspec": {
   "display_name": "R",
   "language": "R",
   "name": "ir"
  },
  "language_info": {
   "codemirror_mode": "r",
   "file_extension": ".r",
   "mimetype": "text/x-r-source",
   "name": "R",
   "pygments_lexer": "r",
   "version": "3.6.3"
  }
 },
 "nbformat": 4,
 "nbformat_minor": 2
}
